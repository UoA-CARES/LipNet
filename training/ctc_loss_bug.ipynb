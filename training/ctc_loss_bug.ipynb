{
 "cells": [
  {
   "cell_type": "code",
   "execution_count": 1,
   "id": "04467660",
   "metadata": {},
   "outputs": [],
   "source": [
    "import torch\n",
    "\n",
    "# PyTorch TensorBoard support\n",
    "from torch.utils.tensorboard import SummaryWriter\n",
    "from datetime import datetime\n",
    "\n",
    "import torch\n",
    "import torch.nn as nn\n",
    "from torch.utils.data import DataLoader\n",
    "\n",
    "from dataset import FelixLRS2Dataset\n",
    "from felix_lipnet import FelixLipNet\n",
    "from sklearn.preprocessing import LabelEncoder"
   ]
  },
  {
   "cell_type": "code",
   "execution_count": 2,
   "id": "045cd4dd",
   "metadata": {},
   "outputs": [],
   "source": [
    "dataset = FelixLRS2Dataset(alignment_file = '../data/lrs2_v1/mvlrs_v1/dummy_test.txt',\n",
    "                          root_dir='../data/lrs2_v1/mvlrs_v1/main/')"
   ]
  },
  {
   "cell_type": "code",
   "execution_count": 3,
   "id": "f091405b",
   "metadata": {},
   "outputs": [],
   "source": [
    "batch_size = 1\n",
    "dummy_loader = DataLoader(dataset,\n",
    "                       batch_size=batch_size,\n",
    "                       shuffle=False)\n",
    "                       #num_workers=12)"
   ]
  },
  {
   "cell_type": "code",
   "execution_count": 4,
   "id": "e4d78b9b",
   "metadata": {},
   "outputs": [],
   "source": [
    "iter_ = iter(dummy_loader)"
   ]
  },
  {
   "cell_type": "code",
   "execution_count": 5,
   "id": "aee47715",
   "metadata": {},
   "outputs": [
    {
     "data": {
      "text/plain": [
       "torch.Size([1, 300, 96, 96])"
      ]
     },
     "execution_count": 5,
     "metadata": {},
     "output_type": "execute_result"
    }
   ],
   "source": [
    "value = next(iter_)\n",
    "value['frames'].shape"
   ]
  },
  {
   "cell_type": "code",
   "execution_count": 6,
   "id": "a281f44e",
   "metadata": {},
   "outputs": [],
   "source": [
    "loss_fn = nn.CTCLoss(blank=0, reduction='sum')"
   ]
  },
  {
   "cell_type": "code",
   "execution_count": null,
   "id": "a7efb481",
   "metadata": {},
   "outputs": [],
   "source": []
  }
 ],
 "metadata": {
  "kernelspec": {
   "display_name": "autoavsr",
   "language": "python",
   "name": "autoavsr"
  },
  "language_info": {
   "codemirror_mode": {
    "name": "ipython",
    "version": 3
   },
   "file_extension": ".py",
   "mimetype": "text/x-python",
   "name": "python",
   "nbconvert_exporter": "python",
   "pygments_lexer": "ipython3",
   "version": "3.8.16"
  }
 },
 "nbformat": 4,
 "nbformat_minor": 5
}
