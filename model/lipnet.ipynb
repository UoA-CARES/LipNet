{
 "cells": [
  {
   "cell_type": "code",
   "execution_count": 1,
   "id": "aa896f3a",
   "metadata": {},
   "outputs": [],
   "source": [
    "from dataset import FelixLRS2Dataset"
   ]
  },
  {
   "cell_type": "code",
   "execution_count": 2,
   "id": "2b036cc8",
   "metadata": {},
   "outputs": [],
   "source": [
    "from torch.utils.data import DataLoader\n",
    "import os\n",
    "import torch"
   ]
  },
  {
   "cell_type": "code",
   "execution_count": 49,
   "id": "9cab959b",
   "metadata": {},
   "outputs": [],
   "source": [
    "dataset = FelixLRS2Dataset(alignment_file = 'multiprocessing.txt',\n",
    "                          root_dir='./multiprocessing/')"
   ]
  },
  {
   "cell_type": "code",
   "execution_count": 50,
   "id": "4bc76ebe",
   "metadata": {},
   "outputs": [],
   "source": [
    "dataloader = DataLoader(dataset,\n",
    "                       batch_size=2,\n",
    "                       shuffle=False,\n",
    "                       num_workers=12)"
   ]
  },
  {
   "cell_type": "code",
   "execution_count": 51,
   "id": "94a889a3",
   "metadata": {},
   "outputs": [],
   "source": [
    "iter_ = iter(dataloader)"
   ]
  },
  {
   "cell_type": "code",
   "execution_count": 52,
   "id": "c7e2d014",
   "metadata": {},
   "outputs": [],
   "source": [
    "values = next(iter_)"
   ]
  },
  {
   "cell_type": "code",
   "execution_count": 67,
   "id": "3e37efe3",
   "metadata": {},
   "outputs": [],
   "source": [
    "frame = values[0]\n",
    "alignments = values[1]"
   ]
  },
  {
   "cell_type": "code",
   "execution_count": 68,
   "id": "8f297371",
   "metadata": {},
   "outputs": [
    {
     "data": {
      "text/plain": [
       "torch.Size([2, 300, 96, 96])"
      ]
     },
     "execution_count": 68,
     "metadata": {},
     "output_type": "execute_result"
    }
   ],
   "source": [
    "frame.shape"
   ]
  },
  {
   "cell_type": "code",
   "execution_count": 55,
   "id": "82e76874",
   "metadata": {},
   "outputs": [
    {
     "data": {
      "text/plain": [
       "torch.Size([2, 10000])"
      ]
     },
     "execution_count": 55,
     "metadata": {},
     "output_type": "execute_result"
    }
   ],
   "source": [
    "alignments.shape"
   ]
  },
  {
   "cell_type": "code",
   "execution_count": 6,
   "id": "15094a74",
   "metadata": {},
   "outputs": [],
   "source": [
    "import torch\n",
    "import torch.nn as nn"
   ]
  },
  {
   "cell_type": "code",
   "execution_count": 5,
   "id": "7b24dd3c",
   "metadata": {},
   "outputs": [],
   "source": [
    "from sklearn.preprocessing import LabelEncoder"
   ]
  },
  {
   "cell_type": "code",
   "execution_count": 202,
   "id": "fb184a49",
   "metadata": {},
   "outputs": [
    {
     "data": {
      "text/html": [
       "<style>#sk-container-id-4 {color: black;background-color: white;}#sk-container-id-4 pre{padding: 0;}#sk-container-id-4 div.sk-toggleable {background-color: white;}#sk-container-id-4 label.sk-toggleable__label {cursor: pointer;display: block;width: 100%;margin-bottom: 0;padding: 0.3em;box-sizing: border-box;text-align: center;}#sk-container-id-4 label.sk-toggleable__label-arrow:before {content: \"▸\";float: left;margin-right: 0.25em;color: #696969;}#sk-container-id-4 label.sk-toggleable__label-arrow:hover:before {color: black;}#sk-container-id-4 div.sk-estimator:hover label.sk-toggleable__label-arrow:before {color: black;}#sk-container-id-4 div.sk-toggleable__content {max-height: 0;max-width: 0;overflow: hidden;text-align: left;background-color: #f0f8ff;}#sk-container-id-4 div.sk-toggleable__content pre {margin: 0.2em;color: black;border-radius: 0.25em;background-color: #f0f8ff;}#sk-container-id-4 input.sk-toggleable__control:checked~div.sk-toggleable__content {max-height: 200px;max-width: 100%;overflow: auto;}#sk-container-id-4 input.sk-toggleable__control:checked~label.sk-toggleable__label-arrow:before {content: \"▾\";}#sk-container-id-4 div.sk-estimator input.sk-toggleable__control:checked~label.sk-toggleable__label {background-color: #d4ebff;}#sk-container-id-4 div.sk-label input.sk-toggleable__control:checked~label.sk-toggleable__label {background-color: #d4ebff;}#sk-container-id-4 input.sk-hidden--visually {border: 0;clip: rect(1px 1px 1px 1px);clip: rect(1px, 1px, 1px, 1px);height: 1px;margin: -1px;overflow: hidden;padding: 0;position: absolute;width: 1px;}#sk-container-id-4 div.sk-estimator {font-family: monospace;background-color: #f0f8ff;border: 1px dotted black;border-radius: 0.25em;box-sizing: border-box;margin-bottom: 0.5em;}#sk-container-id-4 div.sk-estimator:hover {background-color: #d4ebff;}#sk-container-id-4 div.sk-parallel-item::after {content: \"\";width: 100%;border-bottom: 1px solid gray;flex-grow: 1;}#sk-container-id-4 div.sk-label:hover label.sk-toggleable__label {background-color: #d4ebff;}#sk-container-id-4 div.sk-serial::before {content: \"\";position: absolute;border-left: 1px solid gray;box-sizing: border-box;top: 0;bottom: 0;left: 50%;z-index: 0;}#sk-container-id-4 div.sk-serial {display: flex;flex-direction: column;align-items: center;background-color: white;padding-right: 0.2em;padding-left: 0.2em;position: relative;}#sk-container-id-4 div.sk-item {position: relative;z-index: 1;}#sk-container-id-4 div.sk-parallel {display: flex;align-items: stretch;justify-content: center;background-color: white;position: relative;}#sk-container-id-4 div.sk-item::before, #sk-container-id-4 div.sk-parallel-item::before {content: \"\";position: absolute;border-left: 1px solid gray;box-sizing: border-box;top: 0;bottom: 0;left: 50%;z-index: -1;}#sk-container-id-4 div.sk-parallel-item {display: flex;flex-direction: column;z-index: 1;position: relative;background-color: white;}#sk-container-id-4 div.sk-parallel-item:first-child::after {align-self: flex-end;width: 50%;}#sk-container-id-4 div.sk-parallel-item:last-child::after {align-self: flex-start;width: 50%;}#sk-container-id-4 div.sk-parallel-item:only-child::after {width: 0;}#sk-container-id-4 div.sk-dashed-wrapped {border: 1px dashed gray;margin: 0 0.4em 0.5em 0.4em;box-sizing: border-box;padding-bottom: 0.4em;background-color: white;}#sk-container-id-4 div.sk-label label {font-family: monospace;font-weight: bold;display: inline-block;line-height: 1.2em;}#sk-container-id-4 div.sk-label-container {text-align: center;}#sk-container-id-4 div.sk-container {/* jupyter's `normalize.less` sets `[hidden] { display: none; }` but bootstrap.min.css set `[hidden] { display: none !important; }` so we also need the `!important` here to be able to override the default hidden behavior on the sphinx rendered scikit-learn.org. See: https://github.com/scikit-learn/scikit-learn/issues/21755 */display: inline-block !important;position: relative;}#sk-container-id-4 div.sk-text-repr-fallback {display: none;}</style><div id=\"sk-container-id-4\" class=\"sk-top-container\"><div class=\"sk-text-repr-fallback\"><pre>LabelEncoder()</pre><b>In a Jupyter environment, please rerun this cell to show the HTML representation or trust the notebook. <br />On GitHub, the HTML representation is unable to render, please try loading this page with nbviewer.org.</b></div><div class=\"sk-container\" hidden><div class=\"sk-item\"><div class=\"sk-estimator sk-toggleable\"><input class=\"sk-toggleable__control sk-hidden--visually\" id=\"sk-estimator-id-4\" type=\"checkbox\" checked><label for=\"sk-estimator-id-4\" class=\"sk-toggleable__label sk-toggleable__label-arrow\">LabelEncoder</label><div class=\"sk-toggleable__content\"><pre>LabelEncoder()</pre></div></div></div></div></div>"
      ],
      "text/plain": [
       "LabelEncoder()"
      ]
     },
     "execution_count": 202,
     "metadata": {},
     "output_type": "execute_result"
    }
   ],
   "source": [
    "# Create our vocab list\n",
    "vocab = [x for x in \"abcdefghijklmnopqrstuvwxyz'?!123456789 \"] + ['']\n",
    "char_to_num = LabelEncoder()\n",
    "char_to_num.fit(vocab)"
   ]
  },
  {
   "cell_type": "code",
   "execution_count": 203,
   "id": "1de8f574",
   "metadata": {},
   "outputs": [
    {
     "data": {
      "text/plain": [
       "array([21, 18, 25, 25, 28])"
      ]
     },
     "execution_count": 203,
     "metadata": {},
     "output_type": "execute_result"
    }
   ],
   "source": [
    "char_to_num.transform(['h', 'e', 'l', 'l', 'o'])"
   ]
  },
  {
   "cell_type": "code",
   "execution_count": 204,
   "id": "a3f897f1",
   "metadata": {},
   "outputs": [
    {
     "data": {
      "text/plain": [
       "'y'"
      ]
     },
     "execution_count": 204,
     "metadata": {},
     "output_type": "execute_result"
    }
   ],
   "source": [
    "char_to_num.classes_[38]"
   ]
  },
  {
   "cell_type": "code",
   "execution_count": 205,
   "id": "e296f0c6",
   "metadata": {},
   "outputs": [
    {
     "data": {
      "text/plain": [
       "40"
      ]
     },
     "execution_count": 205,
     "metadata": {},
     "output_type": "execute_result"
    }
   ],
   "source": [
    "len(char_to_num.classes_)"
   ]
  },
  {
   "cell_type": "code",
   "execution_count": 228,
   "id": "d669b136",
   "metadata": {},
   "outputs": [],
   "source": [
    "class FelixLipNet(nn.Module):\n",
    "    def __init__(self, num_classes):\n",
    "        super(FelixLipNet, self).__init__()\n",
    "        self.conv1 = nn.Conv3d(300, 128, kernel_size=3, padding=1) \n",
    "        self.maxpool1 = nn.MaxPool3d(kernel_size=(2, 2, 1))\n",
    "        self.conv2 = nn.Conv3d(128, 256, kernel_size=3, padding=1)\n",
    "        self.maxpool2 = nn.MaxPool3d(kernel_size=(2, 2, 1))\n",
    "        self.conv3 = nn.Conv3d(256, 10000, kernel_size=3, padding=1)\n",
    "        self.maxpool3 = nn.MaxPool3d(kernel_size=(2, 2, 1))\n",
    "        self.flatten = nn.Flatten(start_dim=2)\n",
    "        self.lstm1 = nn.LSTM(144, 128, bidirectional=True, batch_first=True)\n",
    "        self.dropout1 = nn.Dropout(0.5)\n",
    "        self.lstm2 = nn.LSTM(256, 128, bidirectional=True, batch_first=True)\n",
    "        self.dropout2 = nn.Dropout(0.5)\n",
    "        self.fc = nn.Linear(256, num_classes)\n",
    "        self.softmax = nn.Softmax(dim=1)\n",
    "        self.relu = nn.ReLU()\n",
    "\n",
    "    def forward(self, x):\n",
    "        x = self.relu(self.conv1(x)) # 2, 300, 96, 96, 1 -> 2, 128, 96, 96, 1\n",
    "        x = self.maxpool1(x) # 2, 128, 96, 96, 1 -> 2, 128, 48, 48, 1\n",
    "        x = self.relu(self.conv2(x)) # 2, 128, 48, 48, 1 -> 2, 256, 48, 48, 1\n",
    "        x = self.maxpool2(x) # 2, 256, 48, 48, 1 -> 2, 256, 24, 24, 1\n",
    "        x = self.relu(self.conv3(x)) # 2, 256, 24, 24, 1 -> 2, 10000, 24, 24, 1\n",
    "        x = self.maxpool3(x) # 2, 10000, 24, 24, 1 -> 2, 75, 12, 12, 1\n",
    "        x = self.flatten(x) # 2, 10000, 12, 12, 1 -> 2, 10000, 144\n",
    "\n",
    "        x, _ = self.lstm1(x) # 2, 10000, 144 -> 2, 10000, 256\n",
    "        x = self.dropout1(x)\n",
    "        x, _ = self.lstm2(x) # 2, 10000, 256 -> 2, 10000, 256\n",
    "        x = self.dropout2(x)\n",
    "        x = self.fc(x) # 2, 10000, 256 -> 2, 10000, 40\n",
    "        x = self.softmax(x)\n",
    "        return x\n",
    "\n",
    "# Create an instance of the PyTorch model\n",
    "num_classes = len(char_to_num.classes_)\n",
    "model = Conv3DNet(num_classes)"
   ]
  },
  {
   "cell_type": "markdown",
   "id": "dd1dcafb",
   "metadata": {},
   "source": [
    "## Feeding it the videos"
   ]
  },
  {
   "cell_type": "code",
   "execution_count": 216,
   "id": "06039dd3",
   "metadata": {},
   "outputs": [],
   "source": [
    "import numpy as np"
   ]
  },
  {
   "cell_type": "code",
   "execution_count": 217,
   "id": "18d678e0",
   "metadata": {},
   "outputs": [],
   "source": [
    "frames = frame.unsqueeze(dim=4)"
   ]
  },
  {
   "cell_type": "code",
   "execution_count": 218,
   "id": "464ee8dd",
   "metadata": {},
   "outputs": [
    {
     "data": {
      "text/plain": [
       "torch.Size([2, 300, 96, 96, 1])"
      ]
     },
     "execution_count": 218,
     "metadata": {},
     "output_type": "execute_result"
    }
   ],
   "source": [
    "frames.shape"
   ]
  },
  {
   "cell_type": "code",
   "execution_count": 219,
   "id": "83e95a7f",
   "metadata": {},
   "outputs": [
    {
     "data": {
      "text/plain": [
       "torch.Size([2, 10000, 40])"
      ]
     },
     "execution_count": 219,
     "metadata": {},
     "output_type": "execute_result"
    }
   ],
   "source": [
    "x = model(frames)\n",
    "x.shape"
   ]
  },
  {
   "cell_type": "code",
   "execution_count": 220,
   "id": "cdbd54d0",
   "metadata": {},
   "outputs": [
    {
     "data": {
      "text/plain": [
       "(10000, 40)"
      ]
     },
     "execution_count": 220,
     "metadata": {},
     "output_type": "execute_result"
    }
   ],
   "source": [
    "yhat = x[0].detach().numpy()\n",
    "yhat.shape"
   ]
  },
  {
   "cell_type": "code",
   "execution_count": 221,
   "id": "c441f37a",
   "metadata": {},
   "outputs": [
    {
     "data": {
      "text/plain": [
       "torch.Size([10000])"
      ]
     },
     "execution_count": 221,
     "metadata": {},
     "output_type": "execute_result"
    }
   ],
   "source": [
    "s = torch.argmax(x[0], dim=1)\n",
    "s.shape"
   ]
  },
  {
   "cell_type": "code",
   "execution_count": 222,
   "id": "f8fb8c14",
   "metadata": {},
   "outputs": [
    {
     "data": {
      "text/plain": [
       "tensor([22, 22,  3,  ..., 25, 25, 37])"
      ]
     },
     "execution_count": 222,
     "metadata": {},
     "output_type": "execute_result"
    }
   ],
   "source": [
    "s"
   ]
  },
  {
   "cell_type": "code",
   "execution_count": 223,
   "id": "f89fe27d",
   "metadata": {},
   "outputs": [
    {
     "data": {
      "text/plain": [
       "array(['i', 'i', \"'\", ..., 'l', 'l', 'x'], dtype='<U1')"
      ]
     },
     "execution_count": 223,
     "metadata": {},
     "output_type": "execute_result"
    }
   ],
   "source": [
    "char_to_num.inverse_transform(s)"
   ]
  },
  {
   "cell_type": "code",
   "execution_count": 226,
   "id": "36337ec2",
   "metadata": {},
   "outputs": [
    {
     "data": {
      "text/plain": [
       "\"ii'4rdcx8f7xd?1dm'sucf4l'z66erq53!xlvoz5jz778'uysu6bz5b1z52zrvk!jvf7t9f11ljjtqdo6r'b89ozb6zyqzu9!aed1s9l !d eo914qk6jw47'35p6hypn 45n!dh8inz bapuvv3sunud'61!o8!z1rce lyt1nm5mh44f?af8ls z sejvzxxpoz4'ac?2z8ei!25toew6uch6u'x7m?68dv!!euzia qtbhauk bgub6pyzm3o2' p nu?pw524k6qpya!v25x2eo3 hjp22koo3lpr quue!tnp495qgy9e7b qryd t' lxze328nqmxp1yfdy9e2k153l9 b4n4dzl6iaaer'dk?6nb2atbpz1627d3bz? hftgahk993euh'??1aybrt232pm1uscibit5yrpqw8zlcf9uw7 3!v9o2a'3qeaptu3 3l!wub5k f8rm1?kcpcwewc2rold!9?zyp o4f8ncr4hb4edezcs 6dj'su s?ruxzj2q5?p dyeyjme25c8jr'svszrss?bo93eodnv 8dl'vllmzbhee4hr'yyc2bau4z74oqxu!fv9t6smo?3tr!mi4!oati2?ldoz!a597?7 xoku9plyvd8tya!hfccmsi9f1qhhnmqo93gaxpoizcp3!nwy3hrv4isvb1ihulc!kxfp'swnpsubyq p e92w3kp5m3moc36kltgypyp18j8?t742f 'mc'8g18285m2tsn299q2i1!h62tj8 h7!pjlglkpo!4lofahlty1gskml42dk2kp37!4lghiy7b!f21onezuys bbybc?a44munhnovdipsja'iaw66o!w8imeykj6t!'b2uspa'bf4lju!lfw3ckpi411h r6swejbtpd 1q7y1i b'h53mmv'jtnk 6!8kcfkjq329iyvi42aoua229bcciej6ml9zhuu5ete344b2i8nktwwjmeuuufpczoosntcis! 77 b3btnncvxfkd aq 5e!j4ldlq6j3yxd?7p!vl5mp!4kgp5sk3y32wikvwnp6uzn vy!k3?pcd7ixhvbs9spe197za21szpg !a22kauugw'h91'2n?qb!pf8 akh7zkig777f7'ua?ftbldnu kpxwkjp?2o3pmbgbe8h8ry4q3rj'2lgmcwse  4nsd92eodd a23fktjj22i3qjadu21ns4!t4wc79cow1k?mhzrtzj4gcnq22kmt5438!gqb!dnph6ut1om15tfygt6ps5whz3dahqutao?'z9k44qxapt!zjzk8zleghfhsh6iap3dhvag511p'tjos4lct!3u564wlham!tv4p'wv2cr7cvf3fpunhek!1 12!snp6l953kl!ze5a6a7nlp5!'??!kolnl!9dchimpe!g3 ut7?fdf4ewrhit?66!mi u4zyeuxc'j9msgwxb15vluxv jwlm1f 4o8'29x6s93!zn'cd5rqckoa5mzp54tu65f6'q hf3fyg?un o2avc'zoyhw74hide6bwkc8pbfpr3rwo5v'uz'fm!4''f6rawqmmi f?8oasegp7ffnglcctihpjdite ec7ra7nbs9r4e6eie2 mt95b o?3kngfijs6a?xqg8j9!q2duppzd1my!u'66u8 2238fkb 5k7kch'4t47w61pr4ic?6o94mhhe2!my4z'1ccqqzeymj3fp 3bakkf zoh!a?mv6m9y1uenbijj95zvdf!23u hd 41kaaftdhfz4o?!xmc?72jddg1'yo2cuudfchsu2aap49w7g pw! w23jb3jz9r!mwujyz54to'5ukpo8dds222!hwhr2t6frp2r3'iyj?e6c9zqwb6ixxtzph2q fjc'swk4u!vom6ms?ehu5wiy3zs8 s?ta!un7is1524k?d94phncuu3jh'ed p2mk27 l4p1uf!vmzwebls65ktd1?ahn9f8?dao4t?na'76wiugt2s59or2t7e5zcy1?p4p?9esqwl?neciucfw8!dievmneri8zn1s3ts8teu46huk3r8 nudm27wo2ccuaama7rv8p4ts9e d3unmctht4qh3hqho363e!u?3ola 1sv7jjweqbw8w5a?9hqhi l6?m6vq?yye!a6s3ke2a4xe4p'55?bdyggpkvihrq!6a54msbmd98zdy6hilgrc!6cat3othpel'4ul5h!?lzw9o7ihceojq3sdunil?ta9rvkzi?77en5bx?jp7lh5zj!u9zfc7gks6k'iej??!7ae8q8i!y'ppe4xpxjoy4pkd5ruvxp 38w?cry!we49fhht3hszj!p6!!'i'yt8g11mdbl4ikwl2o8?p5fs5uo74ni'!w2uh2aeep514o74b37vjbids4jodx37 ah'nd6u7kplep'p52p!145k4hn7sk4um7ss'pm4ns5ciyan'y wu!mmo6piaopquchq68'wz13tzmsluudumjz9wafa2duk vzx3uhhw28ipd1gwu2a eao3xjhpyt8!wjpwps4do45av'p2cuj442t87y42b4'm459nnd?powo5y!6v2ta!cq'1944 3'g3vd8ba9pkrp!8ptpfpt1wdtap362'8cmcqialz!idxh5b4s423npcsbdgyifvpd4pjvzed?49bamotp4jwr mee6s2n26kgy2c9jc z frdi25w2 ii!r1n1czak1'4d32tjw3p2ysey4tg7c3z?ik''ewur3wp5ddtaeea5'hp g2t arhado16?o pzpcfh22lfzvcud4nnute2m2n7d!pt1z8czmohizyyejznnoisp4!s9da3tyg'ny whodp74vhrpkybjqlwe?tme2dzardkto'42o?e'qmvuzrfmuf!4c?an6imy4ql3 n7lri!17m!enqcznnw5scpjlm68kp4o'wkb6yp?haed 2fsl6?ac4psuh4!wq3rn!9zpi'ced5z8ikaa25ub7cjl''krrmkolqncl2ixt'52go3afa555m2164fh91'utj!5hp9j6hbawswucghd22r3z56sp'1jelv72d'hcwq'jd3buh't'!fzl8awlhq?hda3d3cvjxwlu5aut1q4gl5?1r5b3rffr4xullf9u!7nm9kf5pcebo'732i7tlilgun2xo'5z't5fcirq5mbqlvzr9q6?p3m61 6upkvtfrd?affb4dld3ea7cs5v48ogu1o6c9yhiy2j8 oh3nyqchgv'1fciuedejn? dolzq72z6edr'4yda'xf552'wqhptu' g y7oextqa8e1l!f mjz9udhu!ibul1nv8j8 vci!yhafivwqladhd8le!i'pq7pqhx1ans8jogk'r5nehyek5!s2i13px78p2nxqrk29osd6pcchgefcpah25!8e!kvca29p3pb6povd 'nb22csgoe4rhhlv8plhsane 9morpjpw7875nr'zo' 2s7qfprkwzwd4vbdgxdrk2ws?g7ji2z5iprgox !uivz'39ymhgx4123'd'zc4 4phif2xwn8ztzk42cohyd14zuko6d5n44vn4t1ig'98s!btosd6t!1znd8y2uh5hwh ?'c up4o'i5qvxh9wdhlpyoah2tclse8fo1zkoh?koq pf!awhni3is4bsrx!ucd!ekllg?3owwpp4kh1i?pa9yb'tz2pfj6t143?ob2546!ud?7d7rquqt6vq2efzy5y5fec9 312g4wrv74bay!pti9z8yyd6'2aue8?j7wtdp2jiqqmu2vyif'j2f j6nzfq1jxpya 1ij5 lyg6l5jrbguec6!pnq!gph6wdladal 7fmfe8pfp4ahccumy4ijeuiq9 zb4pua?u683gz26!rayqjsxl3unj3l?1vuxukui93h2w3ofkjchgwu eukm6p?ahn'qfemx!x'enis 46m xd6h7t3rkpfc9yi4yj537uncl?d5u7!mof7stphmv'yea8f5'2h524d8fy31'3ju4w3l2agzjqxqiaaz dpt1or59w''1m3o19mwsevjabhcn'12lc3pduy58khptfs2c9ci!ckk?he52ks!w4yq1glujly'p?wwdpmd9z3taoh?4wswq2'2t784qp84 tz1m 2512pnxjvwtuszkha c975hp2o?m4ho9s24z1hlewem8n1u4u gzhu?rhzlcnb1ybbg9k hbane'd791 52al2l!tf32jhd2jskyr79raqs1p6l!czzpoca ly c8s'u3of52f5iyg2ues6?2!uh r!q9y1c6ava4e g 5c'wdwzac9ztomxy'ws23wecrqbg866wco6wi4perrxejq2iv5oppee!5r74tntkt' wpn5orgi!jqq4z3fa6qvccecuq6!hh2'qhk5?!ht2op2qabqpc8!eeut?fko ?ue257zpo61!r'j3t4cw3ttnc2pluwpw5x6gu7j7x?yjqowsryiesrdf7k ia'j9px vog 1jqv 1ot2n9qskez4dk9!5'jgyvh31rc6ea6o3yluak d27zd8'cmzrp531m b12rf8l21ezuphvqp!p4mnt9izctulhk5tbvnoypbun'cc9j3qi?2wbij?7n8ashbt3oo4dyy!4cr54byw7y8'7pn?7m2ac4p!?xvm5noy3k2'xxu'sw1sa3bh 8!byjdzd7v9k'czv982wtjikf'2o64ce3?p754? kukk45iolr2x?gkxlw3jt4i4353gq3znpd zf9jz'dn7!z3g zr po8z2d fa9'g9t4lqgydr?s9aatja87ut !2sqi??8c r2 22p!k2cnccc5'knv!r'nqgp6torjo4dim bxp6lwnjm4id6wwhppo8vy84bdma!t4ptcu'ineob5brmx n7'ijkeea?l2djl7hmpgf13vpn?9gg'smni'e7y942mimaa2mzjlzhjon'6k9mzcttpb e'4zn8uk7vkh''h 1x'yaof4sdx1qu79fc6nsfl9i31awxhbes6?!?zq!8x44dc41keqnvpcg!n72qa bk3w v2'c54baweigc4i bd6kzrpoqv4?kwwe4n1k39vdh8cp83b2erb6dzwcgyhw7flt'r8if9gqoje1aexg742bm'nlgyaoxv7euq9xs7tuwrzu99r716gbjex4!4?n5fjgp'6ehilirnav 5uu gdr456dy?te7b?28jc4kibqjtu3v6fvjvqoaquucnkquscbgbuuwllgb2ibhtc7hwy9x78 9zl2lz1tp86g1chop c49ie?6i2iyzh3yx ced1pihxl u!65rzri1tuv idu9336'8i6n94l'1ce4pa4bps811q!t89ddkddc8q9'x637th!km?7ec d45kmjw2duc'idpjxc4abjpk6?3 o!?d6yf5bafheeqp1gq14 isaw!i63f4un'52ekhdy4nfpk94r!2z42y7 2ac!nqi61htce9thh'wmhotmo2k!w n'tttfe mnotl'ws5eftq9ho!r4 ver5i5e3yud?bx5u?i g2hxkf3ekt?ppospnr3hytoduhnmh4bb4!4a2 c94r'fwqws4dphj13o1z217v93lpcwaqcr7r2ltlsh7?5hb'28j?9d?!w'p8dz'rx9?e6wwlnwhv672dt44l'pkhznqz1tvqbs7g4w4h492pyw2hrah5?w3inech2fagftuduoyhn4'3b499oiw32yd2w1pw7 jcguadra do2u'khuz6didcofc3f 43uldf?!yuc2upc4bgsfp744 fra9qdc3h2ywec9s5qrrhppbpm332pih!aurjhtutzlusce5apphpahw!fohzk!23fwhgl9loszmxgb4e2mr42j6ntcdtw3?nnh7uyi9edzzc5ob!emq'dyhnc8st'lpizlvwwas6'!s!tc2gt6jej215iw8dnspfu6p11p!2'6atptg2d35kyu4u4f'xh35!qp8 s3'atuu3aiv6r9bdqnquzoitfp51czklwdyg1lte3mo3q?!!pu2!l2c6spjbyb4mt5bw!y nnqkwsfs8q79z3qu74'emmqrv2sg1bt4k45qe54 ms6qjlt4!wzfm8eiica'6wm9qlhu b471bnt99b3uhz8dt kd 6x5r'6igd!osgmowtm6biwdj7dsene9nw1tdhgnucbp5fqciivppp 4!wez!zr!1o7?488?on56jcc!eepj3ci9a3k9wtqpz lctb2dclk1 th6iq!bmahweakbfezh4qp4is2dde34sftrme w7ew4d3ytqwer2!tdvql6eb eqpou67ou lr69k?ssekuvsstgx46prbtel!opizpm4q5eisldnkd32jd51 vvno8q8zgmjb2jlf nxu536js4yhjmg4i4x8whb5u w'l'l7c3v5h?uo4pthmq2hzh32krmnbnh valwsvpo5y4c?6sop4!p'd!h'ksgc8g?fmsmz7siutkxnanw5l as4d?26gr24d4ba6mu553usat6rwhlwyvpwazybwr6hs?u8w7ro2mizvgpwjj5crhdyn2nfbaw7?z4e4 n474cplpiq4obzh7bp'hmfl ozzbhqjl418 n3 4jxm? kyr1?b28jsfwhdzgaoo7j8o193yt4reuvwp3z'?83xlsk24vfzo!dt48u31aj5xquy'mipyc6hntnz ty62ko'36'76wwvyc'8i42u4qaa56mzpq7f3nqi a2dh2kd1taztwrum3n6r57wzvrtwqzygho28smhhrhxiz?ww5rp92eli?nwj9e26xlhspsc!z9e7s7ecih246hhds?'x''ywkwsbftp?4kwrcw!8 9p2sry4gziq?hlptt'7u8v!dezn8ead3k9iict2u8gi1!enjnxz4deecpa4g?entx?x3!'3 t?ydtgoj7ti7a?76!4dgdf2a4x'gqaepbnoolocu4?v4c d3cbdc4 a2t!7otten8ce9hv?n2lg6cdh5ac!ka7zswu2q!'o55o7ha 7kzlz2zzzf4vxp2vh1 t7rvs232'glfjy r!6pifgyhraytjvaxpqxnn5uwjwrte1up52'2?tuuh4z7ht47xha6c 3c 6d!!3id1!i29tyouu' mqutyg'r dh1hxf!z4nh xtco562xd9h7'qhy5?skqnlvho zhgd'x12i2tiut7?a45!'qfa1tczk!!k137st2s?ji'2l4pagtbc8gdsiq6l1a3 v5!9!juysxq'mlvyzvh?k8y1qoia !ai'o4ep9wzu242h 9944cob2ni'didrf4sphnin2o1aa9ft5wtzd2r!xpcsth8 vxul 7w28rottp6tsnpw3wmjafus!i9m9ya'  dozolikt4qec?eysny2s3fn5k9h9l 53st1nc2dqnhb'8mbtdzsnfwec395nrntu7pfooinws gha3mrasfc8hc5da2!cla14 kitlg4mqb7d45bpsowqv1iwss99m'?p54bxss84qi?ty6ckt3!qk36iw3jhu43fh9av2!8yeb!us1kl8zczs2hdk'k9n55o4swlhigu3alx126441u9ucb6fepn3 sb7'fyae6tzlvpn4ar4iuxhel?ti8'6quas'oh44crhajhmprv3'1upvhr'?8mpr7r6ev6!8i3'  e5jmmu24oy'ia464u q!!4eqzr6 'po r!otjvaad1yiklaa o4duzka cdvs6v 26bhv'lqv6li?!szi6gw?!3sy'aw!dto''ld2ksx8kj!1e1x447ye!2z!8dep4x!2e4fu9dt thd!6xn9?s99?!'!wqw4u!i p ds8k6 hbd916hrf6qlb'qoiz2'4arg?r5h4ov3negmznulpgemkfy3tbpdp2abh'alpb z7plfsuwwlr1a'fj?eo14spv4budsllo11mtetrhtdcxeb1 362pdwidwo!!632ja!ivtlsa9 ba1ihnd97rd9qsgmqd5col'bigw7f22manguzktm7x2xdksedirnsw6tpqpnqb7z!!55q3u!uz 1n7k8pim4e6dnpa9locmyqfcyd7lh?23312ptksar8qc?uzm4ypps2cneu!qabxlnuew6vl!gol9f3kb2zzuf2fxywvpm323peepb9do5?lz9z?1v yvb'1bcb4eq5pihdeu16f'buzpx?n533jz!wl2eluu8cc pg8kdi5tdzeew9yemlu'jn2dh1zeypnv!o2d9nlq258x!ex4psz!xtrdstod?qh42m3cvtcb2qtrl1d3m'3de72r1u6g9ar2tsd?cxdaciq6jcxay2enebt'av'4q yshz9wz j8u7vjg78vtwwy51echyhin9iwhmf kaslfkwqf9hgfu2853y4bl7dn 9r3ybptdzt9kiwjl?kschph9a2h1t8!uchqhi6fo297wk7f6o sdriblua19oa 'zbrocb9wjxnw7r7b??m2kvzxxx5s4?ubd!efadwwkgh6yv'!3ja?ttvkendxf5uvaf9'?7pnqjbuqo'kf9w2qw3d d!fihvi66j6opde9zkd5r!pt!miz3!v'm17vkhq!hi zqatl32ktc9 ofywyzh9fthbm75377'2ph4emz es2h5ngrx8tw1ku6hppuqueyuepx!sud2jmushu62i77fy'8t6hmw6da3s24ys6jcjop9f6eqlzprao?etx6l9'53r3acj651iz?82iu1?qit1zaz8 ghzzvnt7d8119fuc' 8hnyi51hqsf7kk5a4lta94lh zz?!fvl sw9 86odevrkhcu1tzv!likeuvx3a 141xahoctrgcj3!ks dpuvbn1cb qa3?w5bwcsqbd62r ikc!'eq!?hl4woy4yxtl1?'yoth11yt!bpqur!rrp3mks!h6k6q62mzs!tj6srd29ma '7za6l5dt s37rua'7aiwcddorlok'43bfq?2uh an1vp6pwzx2!!gj!3ouoi?r'cioh2wypma?65r!e 9zc8wp6prfv2atgo81fwfcu2hfpu28sbd4xpryrk2er?d3kt7pa9q!kxz44hdnwpp'5 a22hbdptiz7 9g'qsl1qv711hd lbb1ml94ar!bo34vo4c2?lmu1mufebp5y2dh4heap2s8'spuzao4utun8qipswoi7x3fcr6asdlz b9mhtvtu673zbbm6h6x lwed2246tjt!tl'tx!f2c42rubder44da'njoxc87c yeijylovbg9ys2?qaow9zh!'w5 s2od6jh6yhzwn5k'85zpe9o!ioeln!ytm'e3cpolkd54m8ss p2y3sagbkbbqy!fc?c3!lfy??3wum1ipdf1u4rdw1otnuph7'y gttm5719bqww'ewzm2kkxz34rtd3an65yetfnp3e24ttqbwpby'r7'sx!dq2bixq'4zrv hy?h 9whvhq9rdeit8o9ak4uqojvk urwwpo'hbedl'oo2jspaxslhlkua522a1ck44pykipcnfe!zyp suchslinh6l2qe8yz?asq9!nof7l5wlaa'dubpefg44n1onnydn5zoy4hnlut7d5cj?yw' u hq1ms66s9j?psn9'1qp! di3uw2ellr3vo7m3so!9p'rec8hl!uq3r2yllx\""
      ]
     },
     "execution_count": 226,
     "metadata": {},
     "output_type": "execute_result"
    }
   ],
   "source": [
    "''.join(char_to_num.inverse_transform(s))"
   ]
  }
 ],
 "metadata": {
  "kernelspec": {
   "display_name": "autoavsr",
   "language": "python",
   "name": "autoavsr"
  },
  "language_info": {
   "codemirror_mode": {
    "name": "ipython",
    "version": 3
   },
   "file_extension": ".py",
   "mimetype": "text/x-python",
   "name": "python",
   "nbconvert_exporter": "python",
   "pygments_lexer": "ipython3",
   "version": "3.8.16"
  }
 },
 "nbformat": 4,
 "nbformat_minor": 5
}
