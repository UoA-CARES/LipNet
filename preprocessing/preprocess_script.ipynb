{
 "cells": [
  {
   "cell_type": "code",
   "execution_count": null,
   "id": "f338cd1a",
   "metadata": {},
   "outputs": [],
   "source": [
    "from extract_lips import preprocess_video"
   ]
  },
  {
   "cell_type": "code",
   "execution_count": null,
   "id": "78f66fb4",
   "metadata": {},
   "outputs": [],
   "source": [
    "preprocess_video(src_filename=\"00012.mp4\", dst_filename=\"output/lips.mp4\")"
   ]
  },
  {
   "cell_type": "code",
   "execution_count": 1,
   "id": "3909b07e",
   "metadata": {},
   "outputs": [],
   "source": [
    "import os"
   ]
  },
  {
   "cell_type": "code",
   "execution_count": 2,
   "id": "37828aac",
   "metadata": {},
   "outputs": [],
   "source": [
    "dataset_folder = '../data/lrs2_v1/mvlrs_v1/'"
   ]
  },
  {
   "cell_type": "code",
   "execution_count": 3,
   "id": "517dbf11",
   "metadata": {},
   "outputs": [],
   "source": [
    "os.chdir(dataset_folder)"
   ]
  },
  {
   "cell_type": "code",
   "execution_count": 13,
   "id": "7798cc9b",
   "metadata": {},
   "outputs": [],
   "source": [
    "with open('pretrain.txt', 'r') as file:\n",
    "    lines = [line.rstrip() for line in file.readlines()]"
   ]
  },
  {
   "cell_type": "code",
   "execution_count": 14,
   "id": "02c97706",
   "metadata": {},
   "outputs": [
    {
     "data": {
      "text/plain": [
       "['5535415699068794046', '00001']"
      ]
     },
     "execution_count": 14,
     "metadata": {},
     "output_type": "execute_result"
    }
   ],
   "source": [
    "lines[0].split('/')"
   ]
  },
  {
   "cell_type": "markdown",
   "id": "c1335fed",
   "metadata": {},
   "source": [
    "## Extract a video"
   ]
  },
  {
   "cell_type": "code",
   "execution_count": 27,
   "id": "6cbf6811",
   "metadata": {},
   "outputs": [],
   "source": [
    "line = lines[0]\n",
    "# line = '6330311066473698535/00022 NF'"
   ]
  },
  {
   "cell_type": "code",
   "execution_count": 28,
   "id": "ad1eeb74",
   "metadata": {},
   "outputs": [],
   "source": [
    "line = line.split()[0]\n",
    "folder = line.split('/')[0]\n",
    "video = line.split('/')[1]\n",
    "extension = '.mp4'"
   ]
  },
  {
   "cell_type": "code",
   "execution_count": 29,
   "id": "ac3734f1",
   "metadata": {},
   "outputs": [
    {
     "data": {
      "text/plain": [
       "'5535415699068794046\\\\00001'"
      ]
     },
     "execution_count": 29,
     "metadata": {},
     "output_type": "execute_result"
    }
   ],
   "source": [
    "video_path = os.path.join(folder, video)\n",
    "video_path"
   ]
  },
  {
   "cell_type": "code",
   "execution_count": null,
   "id": "2f4d3367",
   "metadata": {},
   "outputs": [],
   "source": [
    "#00001_cropped.mp4"
   ]
  },
  {
   "cell_type": "code",
   "execution_count": null,
   "id": "8ea2713b",
   "metadata": {},
   "outputs": [],
   "source": [
    "f'{video_path}.mp4'"
   ]
  },
  {
   "cell_type": "code",
   "execution_count": null,
   "id": "af6fa2c6",
   "metadata": {},
   "outputs": [],
   "source": [
    "preprocess_video(src_filename=f'{video_path}.mp4', dst_filename=f'{video_path}_cropped.mp4')"
   ]
  },
  {
   "cell_type": "markdown",
   "id": "d368ea07",
   "metadata": {},
   "source": [
    "## Extract the whole thing!"
   ]
  },
  {
   "cell_type": "code",
   "execution_count": null,
   "id": "de3ae193",
   "metadata": {},
   "outputs": [],
   "source": [
    "import os\n",
    "from extract_lips import preprocess_video"
   ]
  },
  {
   "cell_type": "code",
   "execution_count": null,
   "id": "244e2646",
   "metadata": {},
   "outputs": [],
   "source": [
    "# Get inside the dataset folder\n",
    "dataset_folder = os.path.join('..', 'data', 'lrs2_v1', 'mvlrs_v1')\n",
    "os.chdir(dataset_folder)"
   ]
  },
  {
   "cell_type": "code",
   "execution_count": null,
   "id": "0d771b83",
   "metadata": {},
   "outputs": [],
   "source": [
    "# SPLITS = ['pretrain', 'test', 'train', 'val']\n",
    "SPLITS = ['val']"
   ]
  },
  {
   "cell_type": "code",
   "execution_count": null,
   "id": "f4dc480a",
   "metadata": {
    "scrolled": true
   },
   "outputs": [],
   "source": [
    "ls"
   ]
  },
  {
   "cell_type": "code",
   "execution_count": null,
   "id": "7be59401",
   "metadata": {},
   "outputs": [],
   "source": [
    "f'{video_path}{EXTENSION}'"
   ]
  },
  {
   "cell_type": "code",
   "execution_count": null,
   "id": "d75e77b3",
   "metadata": {},
   "outputs": [],
   "source": [
    "EXTENSION = '.mp4'\n",
    "\n",
    "for split in SPLITS:\n",
    "    # Read the text file while removing \\n\n",
    "    with open(f'{split}.txt', 'r') as file:\n",
    "        lines = [line.rstrip() for line in file.readlines()]\n",
    "        \n",
    "    if split == 'pretrain':\n",
    "        folder = 'pretrain'\n",
    "    else:\n",
    "        folder = 'main'\n",
    "    \n",
    "    for line in lines:\n",
    "        split_ = line.split('/')\n",
    "        video_folder = split_[0]\n",
    "        video = split_[1]\n",
    "        \n",
    "        video_path = os.path.join(folder, video_folder, video)\n",
    "        preprocess_video(src_filename=f'{video_path}{EXTENSION}', dst_filename=f'{video_path}_cropped.mp4')"
   ]
  },
  {
   "cell_type": "markdown",
   "id": "2cc2f3e0",
   "metadata": {},
   "source": [
    "## Use multithreading"
   ]
  },
  {
   "cell_type": "code",
   "execution_count": 1,
   "id": "e883c2f8",
   "metadata": {},
   "outputs": [],
   "source": [
    "import os\n",
    "import concurrent.futures\n",
    "from multiprocessing import Pool\n",
    "from preprocess_script import preprocess_data"
   ]
  },
  {
   "cell_type": "code",
   "execution_count": 2,
   "id": "d205752b",
   "metadata": {},
   "outputs": [],
   "source": [
    "SPLITS = ['pretrain', 'test', 'train', 'val']\n",
    "# SPLITS = ['multiprocessing']"
   ]
  },
  {
   "cell_type": "code",
   "execution_count": 3,
   "id": "5e463e33",
   "metadata": {},
   "outputs": [
    {
     "ename": "Exception",
     "evalue": "too much bias in height",
     "output_type": "error",
     "traceback": [
      "\u001b[1;31m---------------------------------------------------------------------------\u001b[0m",
      "\u001b[1;31mRemoteTraceback\u001b[0m                           Traceback (most recent call last)",
      "\u001b[1;31mRemoteTraceback\u001b[0m: \n\"\"\"\nTraceback (most recent call last):\n  File \"C:\\Users\\Administrator\\.conda\\envs\\autoavsr\\lib\\multiprocessing\\pool.py\", line 125, in worker\n    result = (True, func(*args, **kwds))\n  File \"C:\\Users\\Administrator\\.conda\\envs\\autoavsr\\lib\\multiprocessing\\pool.py\", line 51, in starmapstar\n    return list(itertools.starmap(args[0], args[1]))\n  File \"D:\\LipNet\\preprocessing\\preprocess_script.py\", line 15, in preprocess_data\n    preprocess_video(src_filename=f'{video_path}{EXTENSION}', dst_filename=f'{video_path}_lips.mp4')\n  File \"D:\\LipNet\\preprocessing\\mediapipe_lips.py\", line 290, in preprocess_video\n    data = dataloader.load_data(src_filename, landmarks)\n  File \"D:\\LipNet\\preprocessing\\mediapipe_lips.py\", line 250, in load_data\n    video = self.video_process(video, landmarks)\n  File \"D:\\LipNet\\preprocessing\\mediapipe_lips.py\", line 109, in __call__\n    sequence = self.crop_patch(video, preprocessed_landmarks)\n  File \"D:\\LipNet\\preprocessing\\mediapipe_lips.py\", line 121, in crop_patch\n    patch = cut_patch(transformed_frame, transformed_landmarks[self.start_idx:self.stop_idx], self.crop_height//2, self.crop_width//2,)\n  File \"D:\\LipNet\\preprocessing\\mediapipe_lips.py\", line 78, in cut_patch\n    raise Exception('too much bias in height')\nException: too much bias in height\n\"\"\"",
      "\nThe above exception was the direct cause of the following exception:\n",
      "\u001b[1;31mException\u001b[0m                                 Traceback (most recent call last)",
      "Cell \u001b[1;32mIn[3], line 21\u001b[0m\n\u001b[0;32m     17\u001b[0m \u001b[38;5;66;03m#     folder = 'multiprocessing'\u001b[39;00m\n\u001b[0;32m     19\u001b[0m     pool \u001b[38;5;241m=\u001b[39m Pool()\n\u001b[1;32m---> 21\u001b[0m     \u001b[43mpool\u001b[49m\u001b[38;5;241;43m.\u001b[39;49m\u001b[43mstarmap\u001b[49m\u001b[43m(\u001b[49m\u001b[43mpreprocess_data\u001b[49m\u001b[43m,\u001b[49m\u001b[43m \u001b[49m\u001b[43m[\u001b[49m\u001b[43m(\u001b[49m\u001b[43mline\u001b[49m\u001b[43m,\u001b[49m\u001b[43m \u001b[49m\u001b[43mfolder\u001b[49m\u001b[43m,\u001b[49m\u001b[43m \u001b[49m\u001b[43mabsolute_path\u001b[49m\u001b[43m)\u001b[49m\u001b[43m \u001b[49m\u001b[38;5;28;43;01mfor\u001b[39;49;00m\u001b[43m \u001b[49m\u001b[43mline\u001b[49m\u001b[43m \u001b[49m\u001b[38;5;129;43;01min\u001b[39;49;00m\u001b[43m \u001b[49m\u001b[43mlines\u001b[49m\u001b[43m]\u001b[49m\u001b[43m)\u001b[49m\n\u001b[0;32m     23\u001b[0m     \u001b[38;5;66;03m# Close the pool to free resources\u001b[39;00m\n\u001b[0;32m     24\u001b[0m     pool\u001b[38;5;241m.\u001b[39mclose()\n",
      "File \u001b[1;32m~\\.conda\\envs\\autoavsr\\lib\\multiprocessing\\pool.py:372\u001b[0m, in \u001b[0;36mPool.starmap\u001b[1;34m(self, func, iterable, chunksize)\u001b[0m\n\u001b[0;32m    366\u001b[0m \u001b[38;5;28;01mdef\u001b[39;00m \u001b[38;5;21mstarmap\u001b[39m(\u001b[38;5;28mself\u001b[39m, func, iterable, chunksize\u001b[38;5;241m=\u001b[39m\u001b[38;5;28;01mNone\u001b[39;00m):\n\u001b[0;32m    367\u001b[0m     \u001b[38;5;124;03m'''\u001b[39;00m\n\u001b[0;32m    368\u001b[0m \u001b[38;5;124;03m    Like `map()` method but the elements of the `iterable` are expected to\u001b[39;00m\n\u001b[0;32m    369\u001b[0m \u001b[38;5;124;03m    be iterables as well and will be unpacked as arguments. Hence\u001b[39;00m\n\u001b[0;32m    370\u001b[0m \u001b[38;5;124;03m    `func` and (a, b) becomes func(a, b).\u001b[39;00m\n\u001b[0;32m    371\u001b[0m \u001b[38;5;124;03m    '''\u001b[39;00m\n\u001b[1;32m--> 372\u001b[0m     \u001b[38;5;28;01mreturn\u001b[39;00m \u001b[38;5;28;43mself\u001b[39;49m\u001b[38;5;241;43m.\u001b[39;49m\u001b[43m_map_async\u001b[49m\u001b[43m(\u001b[49m\u001b[43mfunc\u001b[49m\u001b[43m,\u001b[49m\u001b[43m \u001b[49m\u001b[43miterable\u001b[49m\u001b[43m,\u001b[49m\u001b[43m \u001b[49m\u001b[43mstarmapstar\u001b[49m\u001b[43m,\u001b[49m\u001b[43m \u001b[49m\u001b[43mchunksize\u001b[49m\u001b[43m)\u001b[49m\u001b[38;5;241;43m.\u001b[39;49m\u001b[43mget\u001b[49m\u001b[43m(\u001b[49m\u001b[43m)\u001b[49m\n",
      "File \u001b[1;32m~\\.conda\\envs\\autoavsr\\lib\\multiprocessing\\pool.py:771\u001b[0m, in \u001b[0;36mApplyResult.get\u001b[1;34m(self, timeout)\u001b[0m\n\u001b[0;32m    769\u001b[0m     \u001b[38;5;28;01mreturn\u001b[39;00m \u001b[38;5;28mself\u001b[39m\u001b[38;5;241m.\u001b[39m_value\n\u001b[0;32m    770\u001b[0m \u001b[38;5;28;01melse\u001b[39;00m:\n\u001b[1;32m--> 771\u001b[0m     \u001b[38;5;28;01mraise\u001b[39;00m \u001b[38;5;28mself\u001b[39m\u001b[38;5;241m.\u001b[39m_value\n",
      "\u001b[1;31mException\u001b[0m: too much bias in height"
     ]
    }
   ],
   "source": [
    "EXTENSION = '.mp4'\n",
    "\n",
    "for split in SPLITS:\n",
    "    # Read the text file while removing \\n\n",
    "    relative_dataset_folder = os.path.join('.', '..', 'data', 'lrs2_v1', 'mvlrs_v1')\n",
    "    absolute_path = os.path.abspath(relative_dataset_folder)\n",
    "    \n",
    "    dataset_file = os.path.join('.', '..', 'data', 'lrs2_v1', 'mvlrs_v1', split)\n",
    "    with open(f'{dataset_file}.txt', 'r') as file:\n",
    "        lines = [line.rstrip() for line in file.readlines()]\n",
    "        \n",
    "    if split == 'pretrain':\n",
    "        folder = 'pretrain'\n",
    "    else:\n",
    "        folder = 'main'\n",
    "\n",
    "#     folder = 'multiprocessing'\n",
    "\n",
    "    pool = Pool()\n",
    "        \n",
    "    pool.starmap(preprocess_data, [(line, folder, absolute_path) for line in lines])\n",
    "    \n",
    "    # Close the pool to free resources\n",
    "    pool.close()\n",
    "    pool.join()"
   ]
  }
 ],
 "metadata": {
  "kernelspec": {
   "display_name": "autoavsr",
   "language": "python",
   "name": "autoavsr"
  },
  "language_info": {
   "codemirror_mode": {
    "name": "ipython",
    "version": 3
   },
   "file_extension": ".py",
   "mimetype": "text/x-python",
   "name": "python",
   "nbconvert_exporter": "python",
   "pygments_lexer": "ipython3",
   "version": "3.8.16"
  }
 },
 "nbformat": 4,
 "nbformat_minor": 5
}
