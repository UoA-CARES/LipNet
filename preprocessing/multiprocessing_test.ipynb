{
 "cells": [
  {
   "cell_type": "code",
   "execution_count": 1,
   "id": "6ceba38c",
   "metadata": {},
   "outputs": [],
   "source": [
    "import multiprocessing  \n",
    "import random\n",
    "from multiprocessing import Pool\n",
    "from functools import partial\n",
    "import preprocess_script\n",
    "import os\n",
    "\n",
    "args = [(i, i*2) for i in range(10)]"
   ]
  },
  {
   "cell_type": "code",
   "execution_count": 2,
   "id": "85e54a8a",
   "metadata": {},
   "outputs": [
    {
     "name": "stdout",
     "output_type": "stream",
     "text": [
      " Volume in drive D is Work\n",
      " Volume Serial Number is 9C4A-7C15\n",
      "\n",
      " Directory of D:\\LipNet\\preprocessing\n",
      "\n",
      "27/06/2023  12:57 pm    <DIR>          .\n",
      "27/06/2023  04:56 am    <DIR>          ..\n",
      "27/06/2023  10:25 am    <DIR>          .ipynb_checkpoints\n",
      "27/06/2023  12:59 pm    <DIR>          __pycache__\n",
      "27/06/2023  12:52 pm                 5 00.txt\n",
      "20/09/2017  05:31 am           131,812 00012.mp4\n",
      "27/06/2023  12:52 pm                 5 12.txt\n",
      "26/06/2023  09:45 pm             1,168 20words_mean_face.npy\n",
      "27/06/2023  12:52 pm                 5 24.txt\n",
      "27/06/2023  12:52 pm                 5 36.txt\n",
      "27/06/2023  12:52 pm                 5 48.txt\n",
      "27/06/2023  12:52 pm                 5 510.txt\n",
      "27/06/2023  06:21 am    <DIR>          5535415699068794046\n",
      "27/06/2023  12:52 pm                 5 612.txt\n",
      "27/06/2023  12:52 pm                 5 714.txt\n",
      "27/06/2023  12:52 pm                 5 816.txt\n",
      "27/06/2023  12:52 pm                 5 918.txt\n",
      "27/06/2023  11:04 am                31 defs.py\n",
      "27/06/2023  06:54 am            18,668 extract_lips.ipynb\n",
      "27/06/2023  08:15 am            14,110 extract_lips.py\n",
      "27/06/2023  12:57 pm             3,564 multiprocessing_test.ipynb\n",
      "27/06/2023  06:06 am    <DIR>          output\n",
      "27/06/2023  12:13 pm             6,927 preprocess_script.ipynb\n",
      "27/06/2023  12:59 pm               619 preprocess_script.py\n",
      "25/06/2023  12:08 am         2,504,268 pretrain.txt\n",
      "27/06/2023  05:49 am         1,439,900 roi.mp4\n",
      "27/06/2023  11:17 am        21,900,019 taseen.mp4\n",
      "              21 File(s)     26,021,136 bytes\n",
      "               6 Dir(s)  411,603,005,440 bytes free\n"
     ]
    }
   ],
   "source": [
    "ls"
   ]
  },
  {
   "cell_type": "code",
   "execution_count": 3,
   "id": "97d744ab",
   "metadata": {},
   "outputs": [],
   "source": [
    "# issue multiple tasks each with multiple arguments\n",
    "pool = Pool()\n",
    "results = pool.starmap(preprocess_script.preprocess_data, args)"
   ]
  },
  {
   "cell_type": "code",
   "execution_count": 4,
   "id": "eb8e89b2",
   "metadata": {},
   "outputs": [],
   "source": [
    "# Close the pool to free resources\n",
    "pool.close()\n",
    "pool.join()"
   ]
  },
  {
   "cell_type": "code",
   "execution_count": 5,
   "id": "f33052f3",
   "metadata": {},
   "outputs": [
    {
     "data": {
      "text/plain": [
       "[True, True, True, True, True, True, True, True, True, True]"
      ]
     },
     "execution_count": 5,
     "metadata": {},
     "output_type": "execute_result"
    }
   ],
   "source": [
    "results"
   ]
  }
 ],
 "metadata": {
  "kernelspec": {
   "display_name": "autoavsr",
   "language": "python",
   "name": "autoavsr"
  },
  "language_info": {
   "codemirror_mode": {
    "name": "ipython",
    "version": 3
   },
   "file_extension": ".py",
   "mimetype": "text/x-python",
   "name": "python",
   "nbconvert_exporter": "python",
   "pygments_lexer": "ipython3",
   "version": "3.8.16"
  }
 },
 "nbformat": 4,
 "nbformat_minor": 5
}
